{
 "cells": [
  {
   "cell_type": "code",
   "execution_count": null,
   "metadata": {},
   "outputs": [],
   "source": [
    "# It does not require a GPU to run this notebook !!\n",
    "# This notebook creates the model that we use in the Docker File."
   ]
  },
  {
   "cell_type": "code",
   "execution_count": 7,
   "metadata": {},
   "outputs": [],
   "source": [
    "# Please install these versions\n",
    "# !pip install scikit-learn==0.24.0\n"
   ]
  },
  {
   "cell_type": "code",
   "execution_count": 8,
   "metadata": {
    "id": "1tUZDd8LYL37"
   },
   "outputs": [
    {
     "name": "stderr",
     "output_type": "stream",
     "text": [
      "[nltk_data] Downloading package wordnet to\n",
      "[nltk_data]     C:\\Users\\iamsh\\AppData\\Roaming\\nltk_data...\n",
      "[nltk_data]   Package wordnet is already up-to-date!\n",
      "[nltk_data] Downloading package punkt to\n",
      "[nltk_data]     C:\\Users\\iamsh\\AppData\\Roaming\\nltk_data...\n",
      "[nltk_data]   Package punkt is already up-to-date!\n",
      "[nltk_data] Downloading package stopwords to\n",
      "[nltk_data]     C:\\Users\\iamsh\\AppData\\Roaming\\nltk_data...\n",
      "[nltk_data]   Package stopwords is already up-to-date!\n"
     ]
    }
   ],
   "source": [
    "import warnings\n",
    "warnings.filterwarnings('ignore')\n",
    "import joblib\n",
    "import pandas as pd\n",
    "import re\n",
    "import seaborn as sns\n",
    "from matplotlib import pyplot as plt\n",
    "import numpy as np\n",
    "import nltk\n",
    "from nltk.corpus import stopwords\n",
    "\n",
    "nltk.download('wordnet')\n",
    "nltk.download('punkt')\n",
    "nltk.download('stopwords')\n",
    "\n",
    "from sklearn.preprocessing import MinMaxScaler\n",
    "from sklearn.feature_extraction.text import TfidfVectorizer\n",
    "from sklearn.model_selection import train_test_split\n",
    "\n",
    "from sklearn.pipeline import make_pipeline\n",
    "from sklearn.metrics import mean_squared_error as mse\n",
    "from sklearn.linear_model import LinearRegression"
   ]
  },
  {
   "cell_type": "code",
   "execution_count": 9,
   "metadata": {
    "id": "B9TtaX76YL4E"
   },
   "outputs": [
    {
     "name": "stdout",
     "output_type": "stream",
     "text": [
      "Wall time: 5min 14s\n"
     ]
    }
   ],
   "source": [
    "%%time\n",
    "\n",
    "df = pd.read_csv('train.csv')\n",
    "df = df.fillna('Missing')\n",
    "df.target = df.target.apply(lambda x: np.floor(x))\n",
    "\n",
    "# sns.boxplot(x=df.target)\n",
    "# plt.show()\n",
    "\n",
    "df.target = df.target.apply(lambda x: -3 if (x==-4) else x)\n",
    "df.target = df.target.apply(lambda x: 0 if (x==1) else x)\n",
    "\n",
    "# sns.boxplot(x=df.target)\n",
    "# plt.show()\n",
    "\n",
    "df['ex_len'] = df.excerpt.apply(lambda x: len(x))\n",
    "\n",
    "# sns.histplot(x=df.ex_len)\n",
    "# plt.show()\n",
    "\n",
    "# %%time\n",
    "\n",
    "def cleaner(excerpt):\n",
    "    clean = nltk.word_tokenize(re.sub(\"[^a-zA-Z]\", \" \", excerpt).lower())\n",
    "    clean = [word for word in clean if not word in set(stopwords.words(\"english\"))]\n",
    "\n",
    "    lem = nltk.WordNetLemmatizer()\n",
    "    clean = [lem.lemmatize(word) for word in clean]\n",
    "    return \" \".join(clean)\n",
    "\n",
    "df.excerpt = df.excerpt.apply(cleaner)\n",
    "\n",
    "\n",
    "wdf = pd.read_csv('unigram_freq.csv')\n",
    "wdf['ncol'] = wdf.word.apply(lambda x: True if (x not in set(stopwords.words(\"english\"))) else False)\n",
    "nwdf = wdf[wdf.ncol==True]\n",
    "\n",
    "lem1 = nltk.WordNetLemmatizer()\n",
    "nwdf['lword'] = nwdf.word.apply(lambda x: lem1.lemmatize(str(x)))\n",
    "nwdf = nwdf.sort_values('count')\n",
    "\n",
    "def change_scale_word_count(old_value):\n",
    "    return ( (old_value - 12711) / (1551258643 - 12711) ) * (1 - 0) + 0\n",
    "\n",
    "nwdf['scaled_count'] = nwdf['count'].apply(change_scale_word_count)\n",
    "word_freq = dict(zip(nwdf.word, nwdf.scaled_count))\n",
    "\n",
    "def get_score(excerpt):\n",
    "    score = 0\n",
    "\n",
    "    for i in excerpt.split(' '):\n",
    "        try:\n",
    "            score += word_freq[i]\n",
    "        except KeyError:\n",
    "            pass\n",
    "\n",
    "    return score\n",
    "\n",
    "df['excerpt_score'] = df.excerpt.apply(get_score)"
   ]
  },
  {
   "cell_type": "code",
   "execution_count": 10,
   "metadata": {
    "id": "TttPH5wwZM0Z"
   },
   "outputs": [
    {
     "name": "stdout",
     "output_type": "stream",
     "text": [
      "(2834, 22545)\n",
      "Wall time: 14.8 s\n"
     ]
    },
    {
     "data": {
      "text/plain": [
       "0.05957416566079284"
      ]
     },
     "execution_count": 10,
     "metadata": {},
     "output_type": "execute_result"
    }
   ],
   "source": [
    "%%time\n",
    "\n",
    "mms1 = MinMaxScaler()\n",
    "mms2 = MinMaxScaler()\n",
    "\n",
    "df.target = mms1.fit_transform(np.reshape(list(df.target), (-1,1)))\n",
    "df.excerpt_score = mms2.fit_transform(np.reshape(list(df.excerpt_score), (-1,1)))\n",
    "\n",
    "y = df['target']\n",
    "df.drop(['id', 'url_legal', 'license', 'target', 'standard_error'], axis=1, inplace=True)\n",
    "\n",
    "name_vectorizer = TfidfVectorizer()\n",
    "names_encoded = name_vectorizer.fit_transform(df.excerpt)\n",
    "print(names_encoded.shape)\n",
    "names_df = pd.DataFrame(data=names_encoded.toarray(), columns=name_vectorizer.get_feature_names())\n",
    "df = pd.concat([df, names_df], axis=1)\n",
    "df.drop(['excerpt'], axis=1, inplace=True)\n",
    "X = df\n",
    "X_train, X_test, y_train, y_test = train_test_split(X, y, test_size=0.33, random_state=42)\n",
    "\n",
    "model = LinearRegression()\n",
    "model.fit(X_train, y_train)\n",
    "y_pred = model.predict(X_test)\n",
    "mse(y_test, y_pred)"
   ]
  },
  {
   "cell_type": "code",
   "execution_count": 11,
   "metadata": {},
   "outputs": [
    {
     "data": {
      "text/plain": [
       "['mms2.pkl']"
      ]
     },
     "execution_count": 11,
     "metadata": {},
     "output_type": "execute_result"
    }
   ],
   "source": [
    "joblib.dump(model, 'CommonLit_Model.pkl')\n",
    "joblib.dump(name_vectorizer, 'Vectorizer.pkl')\n",
    "joblib.dump(mms1, 'mms1.pkl')\n",
    "joblib.dump(mms2, 'mms2.pkl')"
   ]
  },
  {
   "cell_type": "code",
   "execution_count": 5,
   "metadata": {},
   "outputs": [],
   "source": [
    "model = joblib.load('CommonLit_Model.pkl')\n",
    "name_vectorizer = joblib.load('Vectorizer.pkl')\n",
    "mms1 = joblib.load('mms1.pkl')\n",
    "mms2 = joblib.load('mms2.pkl')"
   ]
  },
  {
   "cell_type": "code",
   "execution_count": 63,
   "metadata": {},
   "outputs": [
    {
     "name": "stdout",
     "output_type": "stream",
     "text": [
      "Wall time: 2min 30s\n"
     ]
    }
   ],
   "source": [
    "# %%time\n",
    "\n",
    "# wdf = pd.read_csv('unigram_freq.csv')\n",
    "# wdf['ncol'] = wdf.word.apply(lambda x: True if (x not in set(stopwords.words(\"english\"))) else False)\n",
    "# nwdf = wdf[wdf.ncol==True]\n",
    "\n",
    "# lem1 = nltk.WordNetLemmatizer()\n",
    "# nwdf['lword'] = nwdf.word.apply(lambda x: lem1.lemmatize(str(x)))\n",
    "# nwdf = nwdf.sort_values('count')\n",
    "\n",
    "# nwdf.to_csv('nwdf.csv', index = False)"
   ]
  },
  {
   "cell_type": "markdown",
   "metadata": {},
   "source": [
    "### Texts"
   ]
  },
  {
   "cell_type": "code",
   "execution_count": 12,
   "metadata": {},
   "outputs": [
    {
     "data": {
      "text/plain": [
       "876"
      ]
     },
     "execution_count": 12,
     "metadata": {},
     "output_type": "execute_result"
    }
   ],
   "source": [
    "alice = '''flowers and those cool fountains, but she could\n",
    "not even get her head though the doorway ;\n",
    "“ and even if my head would go through,”\n",
    "thought poor Alice, “ it would be of very little\n",
    "use without my shoulders. Oh, how I wish I\n",
    "could shut up like a telescope! I think I could,\n",
    "if I only knew how to begin.” For, you see, so\n",
    "many out-of-the-way things had happened lately\n",
    "that Alice had begun to think that very few\n",
    "things indeed were really impossible.\n",
    "There seemed to be no use in waiting by\n",
    "the little door, so she went back to the table,\n",
    "half hoping she might find another key on it,\n",
    "or at any rate a book of rules for shutting\n",
    "people up like telescopes : this time she found\n",
    "a little bottle on it, (“which certainly was not\n",
    "here before,” said Alice,) and tied round the\n",
    "neck of the bottle was a paper label with the\n",
    "words “ DRINK ME” beautifully printed on\n",
    "it in large letters'''\n",
    "len(alice)"
   ]
  },
  {
   "cell_type": "code",
   "execution_count": 13,
   "metadata": {},
   "outputs": [
    {
     "data": {
      "text/plain": [
       "775"
      ]
     },
     "execution_count": 13,
     "metadata": {},
     "output_type": "execute_result"
    }
   ],
   "source": [
    "fable = '''\n",
    "On one fine summer's day in a field a Grasshopper was hopping about in a musical mood. An ant passed by bearing along with great toil an ear of corn he was taking to the nest.grasshopper in musical mood\n",
    "\n",
    "The grasshopper invited the ant to sit for a chat with him. But the ant refused saying that \"I’m storing up food for winter\". \" Why don’t you do the same?\" asked the ant to the grasshopper.\n",
    "\n",
    "ant\"Pooh! Why bother about winter?\" said the Grasshopper; we have got enough food at present.\" But the Ant went on its way and continued its toil.\n",
    "\n",
    "Finally, when winter came, the Grasshopper found itself dying of hunger, while it saw the ants distributing corn and grain from their storage.\n",
    "\n",
    "Then the Grasshopper understood that…\n",
    "\n",
    "It is best to prepare for the days of necessity.'''\n",
    "len(fable)"
   ]
  },
  {
   "cell_type": "code",
   "execution_count": 14,
   "metadata": {},
   "outputs": [
    {
     "data": {
      "text/plain": [
       "1391"
      ]
     },
     "execution_count": 14,
     "metadata": {},
     "output_type": "execute_result"
    }
   ],
   "source": [
    "descartes = '''with its seigneurial rights; it seems likely that he set out for Italy at\n",
    "some point in , and while there visited the shrine of Our Lady\n",
    "of Loreto, which, according to one early biographer, he had solemnly\n",
    "undertaken to do immediately after his dreams in  (another\n",
    "indication, perhaps, if it is true, that he saw the dreams in terms of a\n",
    "divine directive). By  he was again in Poitou, where he flirted for\n",
    "the last time with the idea of taking up a legal career; he then travelled on to Paris, to remain there until . This was a tense time in\n",
    "the capital: the vogue for allegedly lax morality among young gentlemen, connected with the production of libertine (in part obscene)\n",
    "literary works and publicly expressed indifference (if not worse) to\n",
    "religion, had led to a number of thunderous denunciations of atheism and free-thinking, and the trial of the prominent poet Théophile\n",
    "de Viau (–). Descartes makes one brief reference to this\n",
    "atmosphere and to the free philosophizing associated with it in a\n",
    "letter to Mersenne dated  May  (AT . ), and quotes once in\n",
    "a letter of  February  from a poem by Théophile (AT . );\n",
    "but there is no reason to believe that he ever was beguiled by freethinking, or to doubt the sincerity with which he upholds his own\n",
    "personal religious belief and his determination to find arguments to\n",
    "refute deists and atheists.8'''\n",
    "len(descartes)"
   ]
  },
  {
   "cell_type": "code",
   "execution_count": 15,
   "metadata": {},
   "outputs": [
    {
     "data": {
      "text/plain": [
       "1255"
      ]
     },
     "execution_count": 15,
     "metadata": {},
     "output_type": "execute_result"
    }
   ],
   "source": [
    "physics = '''\n",
    "The Kelvin scale is part of the SI system of units, so its actual definition is more complicated than the one given above.\n",
    "First, it is not defined in terms of the freezing and boiling points of water, but in terms of the triple point. The triple point\n",
    "is the unique combination of temperature and pressure at which ice, liquid water, and water vapor can coexist stably. As\n",
    "will be discussed in the section on phase changes, the coexistence is achieved by lowering the pressure and consequently\n",
    "the boiling point to reach the freezing point. The triple-point temperature is defined as 273.16 K. This definition has the\n",
    "advantage that although the freezing temperature and boiling temperature of water depend on pressure, there is only one\n",
    "triple-point temperature.\n",
    "Second, even with two points on the scale defined, different thermometers give somewhat different results for other\n",
    "temperatures. Therefore, a standard thermometer is required. Metrologists (experts in the science of measurement) have\n",
    "chosen the constant-volume gas thermometer for this purpose. A vessel of constant volume filled with gas is subjected to\n",
    "temperature changes, and the measured temperature is proportional to the change in pressure. Using “TP” to represent the\n",
    "triple point'''\n",
    "len(physics)"
   ]
  },
  {
   "cell_type": "code",
   "execution_count": 16,
   "metadata": {},
   "outputs": [
    {
     "data": {
      "text/plain": [
       "1105"
      ]
     },
     "execution_count": 16,
     "metadata": {},
     "output_type": "execute_result"
    }
   ],
   "source": [
    "harry_potter = '''He brought the umbrella swishing down through the air to point at\n",
    "Dudley — there was a flash of violet light, a sound like a firecracker, a sharp\n",
    "squeal, and the next second, Dudley was dancing on the spot with his hands\n",
    "clasped over his fat bottom, howling in pain. When he turned his back on them,\n",
    "Harry saw a curly pig’s tail poking through a hole in his trousers.\n",
    "Uncle Vernon roared. Pulling Aunt Petunia and Dudley into the other\n",
    "room, he cast one last terrified look at Hagrid and slammed the door behind\n",
    "them.\n",
    "Hagrid looked down at his umbrella and stroked his beard.\n",
    "“Shouldn’ta lost me temper,” he said ruefully, “but it didn’t work\n",
    "anyway. Meant ter turn him into a pig, but I suppose he was so much like a pig\n",
    "anyway there wasn’t much left ter do.”\n",
    "He cast a sideways look at Harry under his bushy eyebrows.\n",
    "“Be grateful if yeh didn’t mention that ter anyone at Hogwarts,” he said.\n",
    "“I’m — er — not supposed ter do magic, strictly speakin’. I was allowed ter do a\n",
    "bit ter follow yeh an’ get yer letters to yeh an’stuff — one o’ the reasons I was so\n",
    "keen ter take on the job.”\n",
    "“Why aren’t you su'''\n",
    "len(harry_potter)"
   ]
  },
  {
   "cell_type": "code",
   "execution_count": 17,
   "metadata": {},
   "outputs": [
    {
     "data": {
      "text/plain": [
       "1406"
      ]
     },
     "execution_count": 17,
     "metadata": {},
     "output_type": "execute_result"
    }
   ],
   "source": [
    "lord_rings = '''In the dead night, Frodo lay in a dream without light. Then\n",
    "he saw the young moon rising; under its thin light there\n",
    "loomed before him a black wall of rock, pierced by a dark\n",
    "arch like a great gate. It seemed to Frodo that he was lifted\n",
    "up, and passing over he saw that the rock-wall was a circle\n",
    "of hills, and that within it was a plain, and in the midst of the\n",
    "plain stood a pinnacle of stone, like a vast tower but not made\n",
    "by hands. On its top stood the figure of a man. The moon as\n",
    "it rose seemed to hang for a moment above his head and\n",
    "glistened in his white hair as the wind stirred it. Up from the\n",
    "dark plain below came the crying of fell voices, and the howling of many wolves. Suddenly a shadow, like the shape of\n",
    "great wings, passed across the moon. The figure lifted his\n",
    "arms and a light flashed from the staff that he wielded. A\n",
    "mighty eagle swept down and bore him away. The voices\n",
    "wailed and the wolves yammered. There was a noise like a\n",
    "strong wind blowing, and on it was borne the sound of hoofs,\n",
    "galloping, galloping, galloping from the East. ‘Black Riders!’\n",
    "thought Frodo as he wakened, with the sound of the hoofs\n",
    "still echoing in his mind. He wondered if he would ever again\n",
    "have the courage to leave the safety of these stone walls. He\n",
    "lay motionless, still listening; but all was now silent, and at\n",
    "last he turned and fell asleep again or wandered into some\n",
    "other unremembered dream.'''\n",
    "len(lord_rings)"
   ]
  },
  {
   "cell_type": "code",
   "execution_count": 18,
   "metadata": {},
   "outputs": [
    {
     "data": {
      "text/plain": [
       "2433"
      ]
     },
     "execution_count": 18,
     "metadata": {},
     "output_type": "execute_result"
    }
   ],
   "source": [
    "moby = '''Entering that gable-ended Spouter-Inn, you found yourself in a wide, low, straggling entry with old-fashioned wainscots, reminding one of the bulwarks of some condemned old craft. On one side hung a very large oilpainting so thoroughly besmoked, and every way defaced, that in the unequal crosslights by which you viewed it, it was only by diligent study and a series of systematic visits to it, and careful inquiry of the neighbors, that you could any way arrive at an understanding of its purpose. Such unaccountable masses of shades and shadows, that at first you almost thought some ambitious young artist, in the time of the New England hags, had endeavored to delineate chaos bewitched. But by dint of much and earnest contemplation, and oft repeated ponderings, and especially by throwing open the little window towards the back of the entry, you at last come to the conclusion that such an idea, however wild, might not be altogether unwarranted.\n",
    "\n",
    "But what most puzzled and confounded you was a long, limber, portentous, black mass of something hovering in the centre of the picture over three blue, dim, perpendicular lines floating in a nameless yeast. A boggy, soggy, squitchy picture truly, enough to drive a nervous man distracted. Yet was there a sort of indefinite, half-attained, unimaginable sublimity about it that fairly froze you to it, till you involuntarily took an oath with yourself to find out what that marvellous painting meant. Ever and anon a bright, but, alas, deceptive idea would dart you through.—It’s the Black Sea in a midnight gale.—It’s the unnatural combat of the four primal elements.—It’s a blasted heath.—It’s a Hyperborean winter scene.—It’s the breaking-up of the icebound stream of Time. But at last all these fancies yielded to that one portentous something in the picture’s midst. That once found out, and all the rest were plain. But stop; does it not bear a faint resemblance to a gigantic fish? even the great leviathan himself?\n",
    "\n",
    "In fact, the artist’s design seemed this: a final theory of my own, partly based upon the aggregated opinions of many aged persons with whom I conversed upon the subject. The picture represents a Cape-Horner in a great hurricane; the half-foundered ship weltering there with its three dismantled masts alone visible; and an exasperated whale, purposing to spring clean over the craft, is in the enormous act of impaling himself upon the three mast-heads.'''\n",
    "len(moby)"
   ]
  },
  {
   "cell_type": "code",
   "execution_count": 19,
   "metadata": {},
   "outputs": [
    {
     "data": {
      "text/plain": [
       "1431"
      ]
     },
     "execution_count": 19,
     "metadata": {},
     "output_type": "execute_result"
    }
   ],
   "source": [
    "cat_700 = '''In February 1848 the people of Paris rose in revolt against the constitutional monarchy of Louis-Philippe. Despite the existence of excellent narrative accounts, the February Days, as this revolt is called, have been largely ignored by social historians of the past two decades. For each of the three other major insurrections in nineteenth-century Paris—July 1830, June 1848, and May 1871—there exists at least a sketch of participants’ backgrounds and an analysis, more or less rigorous, of the reasons for the occurrence of the uprisings. Only in the case of the February Revolution do we lack a useful description of participants that might characterize it in the light of what social history has taught us about the process of revolutionary mobilization.\n",
    "\n",
    "Two reasons for this relative neglect seem obvious. First, the insurrection of February has been overshadowed by that of June. The February Revolution overthrew a regime, to be sure, but met with so little resistance that it failed to generate any real sense of historical drama. Its successor, on the other hand, appeared to pit key socioeconomic groups in a life-or-death struggle and was widely seen by contemporary observers as marking a historical departure. Through their interpretations, which exert a continuing influence on our understanding of the revolutionary process, the impact of the events of June has been magnified, while, as an unintended consequence,'''\n",
    "len(cat_700)"
   ]
  },
  {
   "cell_type": "code",
   "execution_count": 20,
   "metadata": {},
   "outputs": [
    {
     "data": {
      "text/plain": [
       "884"
      ]
     },
     "execution_count": 20,
     "metadata": {},
     "output_type": "execute_result"
    }
   ],
   "source": [
    "cat_500 = '''All available research points to the fact that music education can significantly bolster students' academic skills, particularly when this education is imposed during early childhood. The most notable academic improvement associated with music education, surprisingly, occurs in affected student's performance in mathematics. A recent study, which compared students in school districts all around the world, found that students who began receiving music education in kindergarten scored significantly higher on standardized math tests than did those who began after third grade. Those students who began in third grade, in turn, scored significantly higher than did those who received no music education at all. In fact, correlation studies attempting to link several different factors to higher math test scores have found music education to be the most significant of these factors.'''\n",
    "len(cat_500)"
   ]
  },
  {
   "cell_type": "code",
   "execution_count": 21,
   "metadata": {},
   "outputs": [
    {
     "data": {
      "text/plain": [
       "1449"
      ]
     },
     "execution_count": 21,
     "metadata": {},
     "output_type": "execute_result"
    }
   ],
   "source": [
    "blood_meridian = '''They rode all day upon a pale gastine sparsely grown with saltbush and panicgrass. In\n",
    "the evening they entrained upon a hollow ground that rang so roundly under the horses'\n",
    "hooves that they stepped and sidled and rolled their eyes like circus animals and that\n",
    "night as they lay in that ground each heard, all heard, the dull boom of rock falling\n",
    "somewhere far below them in the awful darkness inside the world.\n",
    "On the day that followed they crossed a lake of gypsum so fine the ponies left no track\n",
    "upon it. The riders wore masks of bone-black smeared about their eyes and some had\n",
    "blacked the eyes of their horses. The sun reflected off the pan burned the under ides 춖\n",
    "of their faces and shadow of horse and rider alike were painted upon the fine white\n",
    "powder in purest indigo. Far out on the desert to the north dustspouts rose wobbling\n",
    "and augered the earth and some said they'd heard of pilgrims borne aloft like dervishes\n",
    "in those mindless coils to be dropped broken and bleeding upon the desert again and\n",
    "there perhaps to watch the thing that had destroyed them lurch onward like some\n",
    "drunken djinn and resolve itself once more into the elements from which it sprang. Out\n",
    "of that whirlwind no voice spoke and the pilgrim lying in his broken bones may cry out\n",
    "and in his anguish he may rage, but rage at what? And if the dried and blackened shell\n",
    "of him is found among the sands by travelers to come yet who can discover the engine\n",
    "of his ruin?'''\n",
    "len(blood_meridian)"
   ]
  },
  {
   "cell_type": "code",
   "execution_count": 22,
   "metadata": {},
   "outputs": [
    {
     "data": {
      "text/plain": [
       "1418"
      ]
     },
     "execution_count": 22,
     "metadata": {},
     "output_type": "execute_result"
    }
   ],
   "source": [
    "finnegans = '''me there and then cease to be? Whatever for, blossoms?) Your\n",
    "hairmejig if you had one. If I am laughing with you? No,\n",
    "lovingest, I’m not so dying to take my rise out of you, adored.\n",
    "Not in the very least. True as God made my Mamaw hiplength\n",
    "modesty coatmawther! It’s only because the rison is I’m only any\n",
    "girl, you lovely fellow of my dreams, and because old somebooby\n",
    "is not a roundabout, my trysting of the tulipies, like that puff\n",
    "pape bucking Daveran assoiling us behinds. What a nerve!\n",
    "He thinks that’s what the vesprey’s for. How vain’s that hope in\n",
    "cleric’s heart Who still pursues th’adult’ rous art, Cocksure that\n",
    "rusty gown of his Will make fair Sue forget his phiz! Tame\n",
    "Schwipps. Blessed Marguerite bosses, I hope they threw away\n",
    "the mould or else we’ll have Ballshossers and Sourdamapplers\n",
    "with their medical assassiations all over the place. But hold hard\n",
    "till I’ve got my latchkey vote and I’ll teach him when to wear\n",
    "what woman callours. On account of the gloss of the gleison\n",
    "Hasaboobrawbees isabeaubel. And because, you pluckless lankaloot, I hate the very thought of the thought of you and because,\n",
    "dearling, of course, adorest, I was always meant for an engindear from the French college, to be musband, nomme d’engien,\n",
    "when we do and contract with encho tencho solver when you\n",
    "are married to reading and writing which pleasebusiness now\n",
    "won’t be long for he’s so loopy on me and I’m so leapy like'''\n",
    "len(finnegans)"
   ]
  },
  {
   "cell_type": "markdown",
   "metadata": {},
   "source": [
    "### My Pred"
   ]
  },
  {
   "cell_type": "code",
   "execution_count": 26,
   "metadata": {},
   "outputs": [
    {
     "name": "stdout",
     "output_type": "stream",
     "text": [
      "Alice 0.1621654658004169\n",
      "Fable 0.26046353518175236\n",
      "Descartes 0.46547740192521847\n",
      "Physics 0.40687244493224584\n",
      "Harry Potter 0.23714952368034137\n",
      "Lord of the rings 0.10536357642237837\n",
      "Blood Meridian 0.22480439038394473\n",
      "Moby Dick 0.4467370873772478\n",
      "Finnegans 0.41674786801430763\n",
      "CAT 700 0.41222533747365286\n",
      "CAT 500 0.24308914358355072\n"
     ]
    },
    {
     "data": {
      "image/png": "[encoded data removed]",
      "text/plain": [
       "<Figure size 1080x360 with 1 Axes>"
      ]
     },
     "metadata": {
      "needs_background": "light"
     },
     "output_type": "display_data"
    },
    {
     "name": "stdout",
     "output_type": "stream",
     "text": [
      "Wall time: 13.7 s\n",
      "Found existing installation: scikit-learn 0.23.2\n",
      "Uninstalling scikit-learn-0.23.2:\n",
      "  Would remove:\n",
      "    c:\\users\\iamsh\\anaconda3\\lib\\site-packages\\scikit_learn-0.23.2.dist-info\\*\n",
      "    c:\\users\\iamsh\\anaconda3\\lib\\site-packages\\sklearn\\*\n",
      "Proceed (y/n)? \n"
     ]
    }
   ],
   "source": [
    "%%time\n",
    "\n",
    "import joblib\n",
    "import pandas as pd\n",
    "import nltk\n",
    "from nltk.corpus import stopwords\n",
    "import re\n",
    "import warnings\n",
    "warnings.filterwarnings('ignore')\n",
    "\n",
    "# nltk.download('wordnet')\n",
    "# nltk.download('punkt')\n",
    "# nltk.download('stopwords')\n",
    "\n",
    "from sklearn.preprocessing import MinMaxScaler\n",
    "import numpy as np\n",
    "from matplotlib import pyplot as plt\n",
    "import seaborn as sns\n",
    "\n",
    "model = joblib.load('CommonLit_Model.pkl')\n",
    "name_vectorizer = joblib.load('Vectorizer.pkl')\n",
    "\n",
    "mms1 = joblib.load('mms1.pkl')\n",
    "mms2 = joblib.load('mms2.pkl')\n",
    "\n",
    "nwdf = pd.read_csv('nwdf.csv')\n",
    "def change_scale_word_count(old_value):\n",
    "    return ( (old_value - 12711) / (1551258643 - 12711) ) * (1 - 0) + 0\n",
    "\n",
    "nwdf['scaled_count'] = nwdf['count'].apply(change_scale_word_count)\n",
    "word_freq = dict(zip(nwdf.word, nwdf.scaled_count))\n",
    "\n",
    "def get_score(excerpt):\n",
    "    score = 0\n",
    "\n",
    "    for i in excerpt.split(' '):\n",
    "        try:\n",
    "            score += word_freq[i]\n",
    "        except KeyError:\n",
    "            pass\n",
    "\n",
    "    return score\n",
    "\n",
    "def cleaner(excerpt):\n",
    "    clean = nltk.word_tokenize(re.sub(\"[^a-zA-Z]\", \" \", excerpt).lower())\n",
    "    clean = [word for word in clean if not word in set(stopwords.words(\"english\"))]\n",
    "\n",
    "    lem = nltk.WordNetLemmatizer()\n",
    "    clean = [lem.lemmatize(word) for word in clean]\n",
    "    return \" \".join(clean)\n",
    "\n",
    "def my_fun(text, length):\n",
    "    tdf = pd.DataFrame(columns=['excerpt'])\n",
    "    tdf = tdf.append({'excerpt': text[:length]}, ignore_index=True)\n",
    "    tdf['ex_len'] = tdf.excerpt.apply(lambda x: len(x))\n",
    "    tdf.excerpt = tdf.excerpt.apply(cleaner)\n",
    "    tdf['excerpt_score'] = tdf.excerpt.apply(get_score)\n",
    "    names_encoded = name_vectorizer.transform(tdf.excerpt)\n",
    "    names_df = pd.DataFrame(data=names_encoded.toarray(), columns=name_vectorizer.get_feature_names())\n",
    "    tdf = pd.concat([tdf, names_df], axis=1)\n",
    "    tdf.drop(['excerpt'], axis=1, inplace=True)\n",
    "    tdf.excerpt_score = mms2.transform(np.reshape(list(tdf.excerpt_score), (-1,1)))\n",
    "    ypred = model.predict(tdf)\n",
    "    return (1-ypred)\n",
    "\n",
    "texts = [('Alice',alice), ('Fable',fable), ('Descartes', descartes), ('Physics',physics),\n",
    "        ('Harry Potter', harry_potter), ('Lord of the rings', lord_rings), ('Blood Meridian', blood_meridian),\n",
    "        ('Moby Dick', moby), ('Finnegans', finnegans),('CAT 700', cat_700), ('CAT 500', cat_500)]\n",
    "\n",
    "def show_scores(texts): \n",
    "    scores = []\n",
    "    names = []\n",
    "    length = 600\n",
    "\n",
    "    for i in texts:\n",
    "        print(i[0], float(my_fun(i[1], length)))\n",
    "        scores.append(float(my_fun(i[1], length)))\n",
    "        names.append(i[0])\n",
    "        \n",
    "    plt.figure(figsize=(15,5))\n",
    "    sns.barplot(x=names, y=scores)\n",
    "    plt.ylabel('Difficulty Level')\n",
    "    plt.xlabel('Text Source')\n",
    "    plt.xticks(rotation=45)\n",
    "    plt.show()\n",
    "    \n",
    "show_scores(texts)"
   ]
  }
 ],
 "metadata": {
  "accelerator": "GPU",
  "colab": {
   "collapsed_sections": [],
   "name": "Commonlit 4.ipynb",
   "provenance": []
  },
  "kernelspec": {
   "display_name": "Python 3",
   "language": "python",
   "name": "python3"
  },
  "language_info": {
   "codemirror_mode": {
    "name": "ipython",
    "version": 3
   },
   "file_extension": ".py",
   "mimetype": "text/x-python",
   "name": "python",
   "nbconvert_exporter": "python",
   "pygments_lexer": "ipython3",
   "version": "3.8.5"
  },
  "toc": {
   "base_numbering": 1,
   "nav_menu": {},
   "number_sections": true,
   "sideBar": true,
   "skip_h1_title": false,
   "title_cell": "Table of Contents",
   "title_sidebar": "Contents",
   "toc_cell": false,
   "toc_position": {},
   "toc_section_display": true,
   "toc_window_display": false
  }
 },
 "nbformat": 4,
 "nbformat_minor": 1
}
